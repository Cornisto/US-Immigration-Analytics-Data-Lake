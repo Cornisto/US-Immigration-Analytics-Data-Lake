{
 "cells": [
  {
   "cell_type": "markdown",
   "metadata": {
    "editable": true
   },
   "source": [
    "# US Immigration Analytics ETL Pipeline\n",
    "### Data Engineering Capstone Project\n",
    "\n",
    "#### Project Summary\n",
    "Goal of the project is to optimize analysis of immigration data. In order to achieve this, a data lake will be created using Spark and parquet file format. Data will be modelled as a star schema with a facts table an dimensional tables.\n",
    "\n",
    "The project follows the follow steps:\n",
    "- Step 1: Scope the Project and Gather Data\n",
    "- Step 2: Explore and Assess the Data\n",
    "- Step 3: Define the Data Model\n",
    "- Step 4: Run ETL to Model the Data\n",
    "- Step 5: Complete Project Write Up"
   ]
  },
  {
   "cell_type": "code",
   "execution_count": 1,
   "metadata": {
    "editable": true
   },
   "outputs": [],
   "source": [
    "from pyspark.sql import SparkSession\n",
    "from pyspark.sql.functions import *\n",
    "\n",
    "from data_cleaner import DataCleaner\n",
    "from data_transformer import DataTransformer\n",
    "from data_modeler import DataModeler\n",
    "from data_quality import DataValidator"
   ]
  },
  {
   "cell_type": "markdown",
   "metadata": {
    "editable": true
   },
   "source": [
    "### Step 1: Scope the Project and Gather Data\n",
    "\n",
    "#### Scope \n",
    "Data Lake would be created using star schema concept and stored in parquet files. Data model will consist of fact table containing information about immigration and dimension tables.\n",
    "This model will enable the analysis of possible impact of many factors on immigration such as demographics or temperature.\n",
    "\n",
    "Example questions this model can answer are:\n",
    "* What is the country that most people migrated from in particular month\n",
    "* How many people migrated with particular visa type\n",
    "* Most immigrants by origin country and gender\n",
    "\n",
    "#### Describe and Gather Data \n",
    "Project consists of the following datasets:\n",
    "- I94 immigration data - this data comes from the US National Tourism and Trade Office website. It is provided in SAS7BDAT format which is a binary database storage format. \n",
    "    Source: https://www.trade.gov/national-travel-and-tourism-office\n",
    "- U.S. City Demographic Data - demographics of all US cities and census-designated places with a population greater or equal to 65*,000. \n",
    "    Source: https://public.opendatasoft.com/explore/dataset/us-cities-demographics/export/\n",
    "- Airport Code Table - simple table of airport codes and corresponding cities.\n",
    "    Source: https://datahub.io/core/airport-codes#data\n",
    "- Airlines Code Table - dataset containing a list of airlines with their IATA and ICAO codes"
   ]
  },
  {
   "cell_type": "code",
   "execution_count": 2,
   "metadata": {
    "editable": true
   },
   "outputs": [],
   "source": [
    "data_source_paths = {\n",
    "    \"immigration\" : \"./sources/sas_data/*.parquet\",\n",
    "    \"airlines\" :  \"./sources/airlines.csv\",\n",
    "    \"airport_codes\" :  \"./sources/airport-codes.csv\",\n",
    "    \"countries\" : \"./sources/countries.csv\",\n",
    "    \"sas_labels_descriptions\": \"./sources/I94_SAS_Labels_Descriptions.SAS\",\n",
    "    \"modes\" : \"./sources/modes.csv\",\n",
    "    \"ports\" : \"./sources/ports.csv\",\n",
    "    \"states\" : \"./sources/states.csv\",\n",
    "    \"demographics\" : \"./sources/us-cities-demographics.csv\",\n",
    "    \"visa\" : \"./sources/visa.csv\"\n",
    "}"
   ]
  },
  {
   "cell_type": "code",
   "execution_count": 3,
   "metadata": {
    "editable": true
   },
   "outputs": [],
   "source": [
    "spark = SparkSession.builder.\\\n",
    "config(\"spark.jars.repositories\", \"https://repos.spark-packages.org/\").\\\n",
    "config(\"spark.jars.packages\", \"saurfang:spark-sas7bdat:2.0.0-s_2.10\"). \\\n",
    "enableHiveSupport().getOrCreate()"
   ]
  },
  {
   "cell_type": "markdown",
   "metadata": {
    "editable": true
   },
   "source": [
    "### Step 2: Explore and Assess the Data\n",
    "#### Explore the Data \n",
    "Identify data quality issues*, like missing values*, duplicate data*, etc.\n",
    "\n",
    "#### Cleaning Steps\n",
    "Document steps necessary to clean the data"
   ]
  },
  {
   "cell_type": "markdown",
   "metadata": {
    "editable": true
   },
   "source": [
    "##### I94 Labels Descriptions"
   ]
  },
  {
   "cell_type": "code",
   "execution_count": 4,
   "metadata": {
    "editable": true
   },
   "outputs": [],
   "source": [
    "with open(data_source_paths[\"sas_labels_descriptions\"]) as f:\n",
    "    f_content = f.read()\n",
    "    f_content = f_content.replace(\"\\t\", \"\")\n",
    "    i94country = DataCleaner.i94_code_mapper(f_content, \"i94cntyl\", data_source_paths[\"countries\"], [\"country_code\", \"country\"], \";\")\n",
    "    i94port = DataCleaner.i94_code_mapper(f_content, \"i94prtl\", data_source_paths[\"ports\"], [\"port_code\", \"port\"], \";\")\n",
    "    i94mode = DataCleaner.i94_code_mapper(f_content, \"i94mode\", data_source_paths[\"modes\"], [\"mode_code\", \"mode\"], \";\")\n",
    "    i94addr = DataCleaner.i94_code_mapper(f_content, \"i94addrl\", data_source_paths[\"states\"], [\"state_code\", \"state\"], \";\")\n",
    "    i94visa = DataCleaner.i94_code_mapper(f_content, \"I94VISA\", data_source_paths[\"visa\"], [\"visa_code\", \"visa_type\"], \";\")"
   ]
  },
  {
   "cell_type": "code",
   "execution_count": 5,
   "metadata": {
    "editable": true
   },
   "outputs": [],
   "source": [
    "countries_df = spark.read.format(\"csv\").option(\"header\", \"true\").option(\"delimiter\", \"\\t\").load(data_source_paths[\"countries\"])"
   ]
  },
  {
   "cell_type": "code",
   "execution_count": 6,
   "metadata": {
    "editable": true
   },
   "outputs": [],
   "source": [
    "countries_df = DataCleaner.clean_country_codes(countries_df)"
   ]
  },
  {
   "cell_type": "code",
   "execution_count": 7,
   "metadata": {
    "editable": true
   },
   "outputs": [
    {
     "data": {
      "text/html": [
       "<div>\n",
       "<style scoped>\n",
       "    .dataframe tbody tr th:only-of-type {\n",
       "        vertical-align: middle;\n",
       "    }\n",
       "\n",
       "    .dataframe tbody tr th {\n",
       "        vertical-align: top;\n",
       "    }\n",
       "\n",
       "    .dataframe thead th {\n",
       "        text-align: right;\n",
       "    }\n",
       "</style>\n",
       "<table border=\"1\" class=\"dataframe\">\n",
       "  <thead>\n",
       "    <tr style=\"text-align: right;\">\n",
       "      <th></th>\n",
       "      <th>country_code</th>\n",
       "      <th>country</th>\n",
       "    </tr>\n",
       "  </thead>\n",
       "  <tbody>\n",
       "    <tr>\n",
       "      <th>0</th>\n",
       "      <td>582</td>\n",
       "      <td>MEXICO Air Sea, and Not Reported (I-94, no lan...</td>\n",
       "    </tr>\n",
       "    <tr>\n",
       "      <th>1</th>\n",
       "      <td>236</td>\n",
       "      <td>AFGHANISTAN</td>\n",
       "    </tr>\n",
       "    <tr>\n",
       "      <th>2</th>\n",
       "      <td>101</td>\n",
       "      <td>ALBANIA</td>\n",
       "    </tr>\n",
       "    <tr>\n",
       "      <th>3</th>\n",
       "      <td>316</td>\n",
       "      <td>ALGERIA</td>\n",
       "    </tr>\n",
       "    <tr>\n",
       "      <th>4</th>\n",
       "      <td>102</td>\n",
       "      <td>ANDORRA</td>\n",
       "    </tr>\n",
       "  </tbody>\n",
       "</table>\n",
       "</div>"
      ],
      "text/plain": [
       "  country_code                                            country\n",
       "0          582  MEXICO Air Sea, and Not Reported (I-94, no lan...\n",
       "1          236                                        AFGHANISTAN\n",
       "2          101                                            ALBANIA\n",
       "3          316                                            ALGERIA\n",
       "4          102                                            ANDORRA"
      ]
     },
     "execution_count": 7,
     "metadata": {},
     "output_type": "execute_result"
    }
   ],
   "source": [
    "countries_df.limit(5).toPandas()"
   ]
  },
  {
   "cell_type": "code",
   "execution_count": 8,
   "metadata": {
    "editable": true
   },
   "outputs": [],
   "source": [
    "states_df = spark.read.format(\"csv\").option(\"header\", \"true\").option(\"delimiter\", \"\\t\").load(data_source_paths[\"states\"])"
   ]
  },
  {
   "cell_type": "code",
   "execution_count": 9,
   "metadata": {
    "editable": true
   },
   "outputs": [
    {
     "data": {
      "text/html": [
       "<div>\n",
       "<style scoped>\n",
       "    .dataframe tbody tr th:only-of-type {\n",
       "        vertical-align: middle;\n",
       "    }\n",
       "\n",
       "    .dataframe tbody tr th {\n",
       "        vertical-align: top;\n",
       "    }\n",
       "\n",
       "    .dataframe thead th {\n",
       "        text-align: right;\n",
       "    }\n",
       "</style>\n",
       "<table border=\"1\" class=\"dataframe\">\n",
       "  <thead>\n",
       "    <tr style=\"text-align: right;\">\n",
       "      <th></th>\n",
       "      <th>state_code</th>\n",
       "      <th>state</th>\n",
       "    </tr>\n",
       "  </thead>\n",
       "  <tbody>\n",
       "    <tr>\n",
       "      <th>0</th>\n",
       "      <td>AL</td>\n",
       "      <td>ALABAMA</td>\n",
       "    </tr>\n",
       "    <tr>\n",
       "      <th>1</th>\n",
       "      <td>AK</td>\n",
       "      <td>ALASKA</td>\n",
       "    </tr>\n",
       "    <tr>\n",
       "      <th>2</th>\n",
       "      <td>AZ</td>\n",
       "      <td>ARIZONA</td>\n",
       "    </tr>\n",
       "    <tr>\n",
       "      <th>3</th>\n",
       "      <td>AR</td>\n",
       "      <td>ARKANSAS</td>\n",
       "    </tr>\n",
       "    <tr>\n",
       "      <th>4</th>\n",
       "      <td>CA</td>\n",
       "      <td>CALIFORNIA</td>\n",
       "    </tr>\n",
       "  </tbody>\n",
       "</table>\n",
       "</div>"
      ],
      "text/plain": [
       "  state_code       state\n",
       "0         AL     ALABAMA\n",
       "1         AK      ALASKA\n",
       "2         AZ     ARIZONA\n",
       "3         AR    ARKANSAS\n",
       "4         CA  CALIFORNIA"
      ]
     },
     "execution_count": 9,
     "metadata": {},
     "output_type": "execute_result"
    }
   ],
   "source": [
    "states_df.limit(5).toPandas()"
   ]
  },
  {
   "cell_type": "code",
   "execution_count": 10,
   "metadata": {
    "editable": true
   },
   "outputs": [],
   "source": [
    "ports_df = spark.read.format(\"csv\").option(\"header\", \"true\").option(\"delimiter\", \"\\t\").load(data_source_paths[\"ports\"])"
   ]
  },
  {
   "cell_type": "code",
   "execution_count": 11,
   "metadata": {
    "editable": true
   },
   "outputs": [],
   "source": [
    "ports_df = DataCleaner.clean_port_codes(ports_df)"
   ]
  },
  {
   "cell_type": "code",
   "execution_count": 12,
   "metadata": {
    "editable": true
   },
   "outputs": [
    {
     "data": {
      "text/html": [
       "<div>\n",
       "<style scoped>\n",
       "    .dataframe tbody tr th:only-of-type {\n",
       "        vertical-align: middle;\n",
       "    }\n",
       "\n",
       "    .dataframe tbody tr th {\n",
       "        vertical-align: top;\n",
       "    }\n",
       "\n",
       "    .dataframe thead th {\n",
       "        text-align: right;\n",
       "    }\n",
       "</style>\n",
       "<table border=\"1\" class=\"dataframe\">\n",
       "  <thead>\n",
       "    <tr style=\"text-align: right;\">\n",
       "      <th></th>\n",
       "      <th>port_code</th>\n",
       "      <th>port_city</th>\n",
       "      <th>port_state</th>\n",
       "    </tr>\n",
       "  </thead>\n",
       "  <tbody>\n",
       "    <tr>\n",
       "      <th>0</th>\n",
       "      <td>ALC</td>\n",
       "      <td>Alcan</td>\n",
       "      <td>AK</td>\n",
       "    </tr>\n",
       "    <tr>\n",
       "      <th>1</th>\n",
       "      <td>ANC</td>\n",
       "      <td>Anchorage</td>\n",
       "      <td>AK</td>\n",
       "    </tr>\n",
       "    <tr>\n",
       "      <th>2</th>\n",
       "      <td>BAR</td>\n",
       "      <td>Baker Aaf - Baker Island</td>\n",
       "      <td>AK</td>\n",
       "    </tr>\n",
       "    <tr>\n",
       "      <th>3</th>\n",
       "      <td>DAC</td>\n",
       "      <td>Daltons Cache</td>\n",
       "      <td>AK</td>\n",
       "    </tr>\n",
       "    <tr>\n",
       "      <th>4</th>\n",
       "      <td>PIZ</td>\n",
       "      <td>Dew Station Pt Lay Dew</td>\n",
       "      <td>AK</td>\n",
       "    </tr>\n",
       "  </tbody>\n",
       "</table>\n",
       "</div>"
      ],
      "text/plain": [
       "  port_code                 port_city port_state\n",
       "0       ALC                     Alcan         AK\n",
       "1       ANC                 Anchorage         AK\n",
       "2       BAR  Baker Aaf - Baker Island         AK\n",
       "3       DAC             Daltons Cache         AK\n",
       "4       PIZ    Dew Station Pt Lay Dew         AK"
      ]
     },
     "execution_count": 12,
     "metadata": {},
     "output_type": "execute_result"
    }
   ],
   "source": [
    "ports_df.limit(5).toPandas()"
   ]
  },
  {
   "cell_type": "code",
   "execution_count": 13,
   "metadata": {
    "editable": true
   },
   "outputs": [],
   "source": [
    "modes_df = spark.read.format(\"csv\").option(\"header\", \"true\").option(\"delimiter\", \"\\t\").load(data_source_paths[\"modes\"])"
   ]
  },
  {
   "cell_type": "code",
   "execution_count": 14,
   "metadata": {
    "editable": true
   },
   "outputs": [
    {
     "data": {
      "text/html": [
       "<div>\n",
       "<style scoped>\n",
       "    .dataframe tbody tr th:only-of-type {\n",
       "        vertical-align: middle;\n",
       "    }\n",
       "\n",
       "    .dataframe tbody tr th {\n",
       "        vertical-align: top;\n",
       "    }\n",
       "\n",
       "    .dataframe thead th {\n",
       "        text-align: right;\n",
       "    }\n",
       "</style>\n",
       "<table border=\"1\" class=\"dataframe\">\n",
       "  <thead>\n",
       "    <tr style=\"text-align: right;\">\n",
       "      <th></th>\n",
       "      <th>mode_code</th>\n",
       "      <th>mode</th>\n",
       "    </tr>\n",
       "  </thead>\n",
       "  <tbody>\n",
       "    <tr>\n",
       "      <th>0</th>\n",
       "      <td>1</td>\n",
       "      <td>Air</td>\n",
       "    </tr>\n",
       "    <tr>\n",
       "      <th>1</th>\n",
       "      <td>2</td>\n",
       "      <td>Sea</td>\n",
       "    </tr>\n",
       "    <tr>\n",
       "      <th>2</th>\n",
       "      <td>3</td>\n",
       "      <td>Land</td>\n",
       "    </tr>\n",
       "    <tr>\n",
       "      <th>3</th>\n",
       "      <td>9</td>\n",
       "      <td>Not reported</td>\n",
       "    </tr>\n",
       "  </tbody>\n",
       "</table>\n",
       "</div>"
      ],
      "text/plain": [
       "  mode_code          mode\n",
       "0         1           Air\n",
       "1         2           Sea\n",
       "2         3          Land\n",
       "3         9  Not reported"
      ]
     },
     "execution_count": 14,
     "metadata": {},
     "output_type": "execute_result"
    }
   ],
   "source": [
    "modes_df.limit(5).toPandas()"
   ]
  },
  {
   "cell_type": "code",
   "execution_count": 15,
   "metadata": {
    "editable": true
   },
   "outputs": [],
   "source": [
    "visa_df = spark.read.format(\"csv\").option(\"header\", \"true\").option(\"delimiter\", \"\\t\").load(data_source_paths[\"visa\"])"
   ]
  },
  {
   "cell_type": "code",
   "execution_count": 16,
   "metadata": {
    "editable": true
   },
   "outputs": [
    {
     "data": {
      "text/html": [
       "<div>\n",
       "<style scoped>\n",
       "    .dataframe tbody tr th:only-of-type {\n",
       "        vertical-align: middle;\n",
       "    }\n",
       "\n",
       "    .dataframe tbody tr th {\n",
       "        vertical-align: top;\n",
       "    }\n",
       "\n",
       "    .dataframe thead th {\n",
       "        text-align: right;\n",
       "    }\n",
       "</style>\n",
       "<table border=\"1\" class=\"dataframe\">\n",
       "  <thead>\n",
       "    <tr style=\"text-align: right;\">\n",
       "      <th></th>\n",
       "      <th>visa_code</th>\n",
       "      <th>visa_type</th>\n",
       "    </tr>\n",
       "  </thead>\n",
       "  <tbody>\n",
       "    <tr>\n",
       "      <th>0</th>\n",
       "      <td>1</td>\n",
       "      <td>Business</td>\n",
       "    </tr>\n",
       "    <tr>\n",
       "      <th>1</th>\n",
       "      <td>2</td>\n",
       "      <td>Pleasure</td>\n",
       "    </tr>\n",
       "    <tr>\n",
       "      <th>2</th>\n",
       "      <td>3</td>\n",
       "      <td>Student</td>\n",
       "    </tr>\n",
       "  </tbody>\n",
       "</table>\n",
       "</div>"
      ],
      "text/plain": [
       "  visa_code visa_type\n",
       "0         1  Business\n",
       "1         2  Pleasure\n",
       "2         3   Student"
      ]
     },
     "execution_count": 16,
     "metadata": {},
     "output_type": "execute_result"
    }
   ],
   "source": [
    "visa_df.limit(5).toPandas()"
   ]
  },
  {
   "cell_type": "markdown",
   "metadata": {
    "editable": true
   },
   "source": [
    "##### Airport codes data"
   ]
  },
  {
   "cell_type": "code",
   "execution_count": 17,
   "metadata": {
    "editable": true
   },
   "outputs": [],
   "source": [
    "airports_df = spark.read.format(\"csv\").option(\"header\", \"true\").load(data_source_paths[\"airport_codes\"])"
   ]
  },
  {
   "cell_type": "code",
   "execution_count": 18,
   "metadata": {
    "editable": true
   },
   "outputs": [],
   "source": [
    "airports_df = DataCleaner.clean_airports(airports_df)"
   ]
  },
  {
   "cell_type": "code",
   "execution_count": 19,
   "metadata": {
    "editable": true
   },
   "outputs": [
    {
     "data": {
      "text/html": [
       "<div>\n",
       "<style scoped>\n",
       "    .dataframe tbody tr th:only-of-type {\n",
       "        vertical-align: middle;\n",
       "    }\n",
       "\n",
       "    .dataframe tbody tr th {\n",
       "        vertical-align: top;\n",
       "    }\n",
       "\n",
       "    .dataframe thead th {\n",
       "        text-align: right;\n",
       "    }\n",
       "</style>\n",
       "<table border=\"1\" class=\"dataframe\">\n",
       "  <thead>\n",
       "    <tr style=\"text-align: right;\">\n",
       "      <th></th>\n",
       "      <th>ident</th>\n",
       "      <th>type</th>\n",
       "      <th>name</th>\n",
       "      <th>elevation_ft</th>\n",
       "      <th>continent</th>\n",
       "      <th>iso_country</th>\n",
       "      <th>iso_region</th>\n",
       "      <th>municipality</th>\n",
       "      <th>gps_code</th>\n",
       "      <th>iata_code</th>\n",
       "      <th>local_code</th>\n",
       "      <th>coordinates</th>\n",
       "    </tr>\n",
       "  </thead>\n",
       "  <tbody>\n",
       "    <tr>\n",
       "      <th>0</th>\n",
       "      <td>00AA</td>\n",
       "      <td>small_airport</td>\n",
       "      <td>Aero B Ranch Airport</td>\n",
       "      <td>3435.0</td>\n",
       "      <td>NA</td>\n",
       "      <td>US</td>\n",
       "      <td>KS</td>\n",
       "      <td>Leoti</td>\n",
       "      <td>00AA</td>\n",
       "      <td>None</td>\n",
       "      <td>00AA</td>\n",
       "      <td>-101.473911, 38.704022</td>\n",
       "    </tr>\n",
       "    <tr>\n",
       "      <th>1</th>\n",
       "      <td>00AK</td>\n",
       "      <td>small_airport</td>\n",
       "      <td>Lowell Field</td>\n",
       "      <td>450.0</td>\n",
       "      <td>NA</td>\n",
       "      <td>US</td>\n",
       "      <td>AK</td>\n",
       "      <td>Anchor Point</td>\n",
       "      <td>00AK</td>\n",
       "      <td>None</td>\n",
       "      <td>00AK</td>\n",
       "      <td>-151.695999146, 59.94919968</td>\n",
       "    </tr>\n",
       "    <tr>\n",
       "      <th>2</th>\n",
       "      <td>00AL</td>\n",
       "      <td>small_airport</td>\n",
       "      <td>Epps Airpark</td>\n",
       "      <td>820.0</td>\n",
       "      <td>NA</td>\n",
       "      <td>US</td>\n",
       "      <td>AL</td>\n",
       "      <td>Harvest</td>\n",
       "      <td>00AL</td>\n",
       "      <td>None</td>\n",
       "      <td>00AL</td>\n",
       "      <td>-86.77030181884766, 34.86479949951172</td>\n",
       "    </tr>\n",
       "    <tr>\n",
       "      <th>3</th>\n",
       "      <td>00AS</td>\n",
       "      <td>small_airport</td>\n",
       "      <td>Fulton Airport</td>\n",
       "      <td>1100.0</td>\n",
       "      <td>NA</td>\n",
       "      <td>US</td>\n",
       "      <td>OK</td>\n",
       "      <td>Alex</td>\n",
       "      <td>00AS</td>\n",
       "      <td>None</td>\n",
       "      <td>00AS</td>\n",
       "      <td>-97.8180194, 34.9428028</td>\n",
       "    </tr>\n",
       "    <tr>\n",
       "      <th>4</th>\n",
       "      <td>00AZ</td>\n",
       "      <td>small_airport</td>\n",
       "      <td>Cordes Airport</td>\n",
       "      <td>3810.0</td>\n",
       "      <td>NA</td>\n",
       "      <td>US</td>\n",
       "      <td>AZ</td>\n",
       "      <td>Cordes</td>\n",
       "      <td>00AZ</td>\n",
       "      <td>None</td>\n",
       "      <td>00AZ</td>\n",
       "      <td>-112.16500091552734, 34.305599212646484</td>\n",
       "    </tr>\n",
       "  </tbody>\n",
       "</table>\n",
       "</div>"
      ],
      "text/plain": [
       "  ident           type                  name  elevation_ft continent  \\\n",
       "0  00AA  small_airport  Aero B Ranch Airport        3435.0        NA   \n",
       "1  00AK  small_airport          Lowell Field         450.0        NA   \n",
       "2  00AL  small_airport          Epps Airpark         820.0        NA   \n",
       "3  00AS  small_airport        Fulton Airport        1100.0        NA   \n",
       "4  00AZ  small_airport        Cordes Airport        3810.0        NA   \n",
       "\n",
       "  iso_country iso_region  municipality gps_code iata_code local_code  \\\n",
       "0          US         KS         Leoti     00AA      None       00AA   \n",
       "1          US         AK  Anchor Point     00AK      None       00AK   \n",
       "2          US         AL       Harvest     00AL      None       00AL   \n",
       "3          US         OK          Alex     00AS      None       00AS   \n",
       "4          US         AZ        Cordes     00AZ      None       00AZ   \n",
       "\n",
       "                               coordinates  \n",
       "0                   -101.473911, 38.704022  \n",
       "1              -151.695999146, 59.94919968  \n",
       "2    -86.77030181884766, 34.86479949951172  \n",
       "3                  -97.8180194, 34.9428028  \n",
       "4  -112.16500091552734, 34.305599212646484  "
      ]
     },
     "execution_count": 19,
     "metadata": {},
     "output_type": "execute_result"
    }
   ],
   "source": [
    "airports_df.limit(5).toPandas()"
   ]
  },
  {
   "cell_type": "markdown",
   "metadata": {
    "editable": true
   },
   "source": [
    "##### Airline codes data"
   ]
  },
  {
   "cell_type": "code",
   "execution_count": 20,
   "metadata": {
    "editable": true
   },
   "outputs": [],
   "source": [
    "airlines_df = spark.read.format(\"csv\").option(\"header\", \"true\").load(data_source_paths[\"airlines\"], sep=';')"
   ]
  },
  {
   "cell_type": "code",
   "execution_count": 21,
   "metadata": {
    "editable": true
   },
   "outputs": [],
   "source": [
    "airlines_df = DataCleaner.clean_airlines(airlines_df)"
   ]
  },
  {
   "cell_type": "code",
   "execution_count": 22,
   "metadata": {
    "editable": true
   },
   "outputs": [
    {
     "data": {
      "text/html": [
       "<div>\n",
       "<style scoped>\n",
       "    .dataframe tbody tr th:only-of-type {\n",
       "        vertical-align: middle;\n",
       "    }\n",
       "\n",
       "    .dataframe tbody tr th {\n",
       "        vertical-align: top;\n",
       "    }\n",
       "\n",
       "    .dataframe thead th {\n",
       "        text-align: right;\n",
       "    }\n",
       "</style>\n",
       "<table border=\"1\" class=\"dataframe\">\n",
       "  <thead>\n",
       "    <tr style=\"text-align: right;\">\n",
       "      <th></th>\n",
       "      <th>iata_code</th>\n",
       "      <th>icao_code</th>\n",
       "      <th>airline</th>\n",
       "      <th>country</th>\n",
       "    </tr>\n",
       "  </thead>\n",
       "  <tbody>\n",
       "    <tr>\n",
       "      <th>0</th>\n",
       "      <td>0A</td>\n",
       "      <td>GNT</td>\n",
       "      <td>Amber Air (Lithuania)</td>\n",
       "      <td>Lithuania</td>\n",
       "    </tr>\n",
       "    <tr>\n",
       "      <th>1</th>\n",
       "      <td>0D</td>\n",
       "      <td>DWT</td>\n",
       "      <td>Darwin Airline (Switzerland)</td>\n",
       "      <td>Switzerland</td>\n",
       "    </tr>\n",
       "    <tr>\n",
       "      <th>2</th>\n",
       "      <td>0J</td>\n",
       "      <td>JCS</td>\n",
       "      <td>Jetclub (Switzerland) Jetclub</td>\n",
       "      <td>Switzerland</td>\n",
       "    </tr>\n",
       "    <tr>\n",
       "      <th>3</th>\n",
       "      <td>0K</td>\n",
       "      <td>KRT</td>\n",
       "      <td>Kokshetau (Kazakhstan) Kokta</td>\n",
       "      <td>Kazakhstan</td>\n",
       "    </tr>\n",
       "    <tr>\n",
       "      <th>4</th>\n",
       "      <td>0W</td>\n",
       "      <td>WCR</td>\n",
       "      <td>West Caribbean Costa Rica (Costa Rica) West Ca...</td>\n",
       "      <td>Costa Rica</td>\n",
       "    </tr>\n",
       "  </tbody>\n",
       "</table>\n",
       "</div>"
      ],
      "text/plain": [
       "  iata_code icao_code                                            airline  \\\n",
       "0        0A       GNT                             Amber Air (Lithuania)    \n",
       "1        0D       DWT                      Darwin Airline (Switzerland)    \n",
       "2        0J       JCS                      Jetclub (Switzerland) Jetclub   \n",
       "3        0K       KRT                       Kokshetau (Kazakhstan) Kokta   \n",
       "4        0W       WCR  West Caribbean Costa Rica (Costa Rica) West Ca...   \n",
       "\n",
       "       country  \n",
       "0    Lithuania  \n",
       "1  Switzerland  \n",
       "2  Switzerland  \n",
       "3   Kazakhstan  \n",
       "4   Costa Rica  "
      ]
     },
     "execution_count": 22,
     "metadata": {},
     "output_type": "execute_result"
    }
   ],
   "source": [
    "airlines_df.limit(5).toPandas()"
   ]
  },
  {
   "cell_type": "markdown",
   "metadata": {
    "editable": true
   },
   "source": [
    "##### U.S. cities demographic data"
   ]
  },
  {
   "cell_type": "code",
   "execution_count": 23,
   "metadata": {
    "editable": true
   },
   "outputs": [],
   "source": [
    "demographics_df = spark.read.format(\"csv\").option(\"header\", \"true\").load(data_source_paths[\"demographics\"], sep=';')"
   ]
  },
  {
   "cell_type": "code",
   "execution_count": 24,
   "metadata": {
    "editable": true
   },
   "outputs": [
    {
     "data": {
      "text/html": [
       "<div>\n",
       "<style scoped>\n",
       "    .dataframe tbody tr th:only-of-type {\n",
       "        vertical-align: middle;\n",
       "    }\n",
       "\n",
       "    .dataframe tbody tr th {\n",
       "        vertical-align: top;\n",
       "    }\n",
       "\n",
       "    .dataframe thead th {\n",
       "        text-align: right;\n",
       "    }\n",
       "</style>\n",
       "<table border=\"1\" class=\"dataframe\">\n",
       "  <thead>\n",
       "    <tr style=\"text-align: right;\">\n",
       "      <th></th>\n",
       "      <th>City</th>\n",
       "      <th>State</th>\n",
       "      <th>Median Age</th>\n",
       "      <th>Male Population</th>\n",
       "      <th>Female Population</th>\n",
       "      <th>Total Population</th>\n",
       "      <th>Number of Veterans</th>\n",
       "      <th>Foreign-born</th>\n",
       "      <th>Average Household Size</th>\n",
       "      <th>State Code</th>\n",
       "      <th>Race</th>\n",
       "      <th>Count</th>\n",
       "    </tr>\n",
       "  </thead>\n",
       "  <tbody>\n",
       "    <tr>\n",
       "      <th>0</th>\n",
       "      <td>Silver Spring</td>\n",
       "      <td>Maryland</td>\n",
       "      <td>33.8</td>\n",
       "      <td>40601</td>\n",
       "      <td>41862</td>\n",
       "      <td>82463</td>\n",
       "      <td>1562</td>\n",
       "      <td>30908</td>\n",
       "      <td>2.6</td>\n",
       "      <td>MD</td>\n",
       "      <td>Hispanic or Latino</td>\n",
       "      <td>25924</td>\n",
       "    </tr>\n",
       "    <tr>\n",
       "      <th>1</th>\n",
       "      <td>Quincy</td>\n",
       "      <td>Massachusetts</td>\n",
       "      <td>41.0</td>\n",
       "      <td>44129</td>\n",
       "      <td>49500</td>\n",
       "      <td>93629</td>\n",
       "      <td>4147</td>\n",
       "      <td>32935</td>\n",
       "      <td>2.39</td>\n",
       "      <td>MA</td>\n",
       "      <td>White</td>\n",
       "      <td>58723</td>\n",
       "    </tr>\n",
       "    <tr>\n",
       "      <th>2</th>\n",
       "      <td>Hoover</td>\n",
       "      <td>Alabama</td>\n",
       "      <td>38.5</td>\n",
       "      <td>38040</td>\n",
       "      <td>46799</td>\n",
       "      <td>84839</td>\n",
       "      <td>4819</td>\n",
       "      <td>8229</td>\n",
       "      <td>2.58</td>\n",
       "      <td>AL</td>\n",
       "      <td>Asian</td>\n",
       "      <td>4759</td>\n",
       "    </tr>\n",
       "    <tr>\n",
       "      <th>3</th>\n",
       "      <td>Rancho Cucamonga</td>\n",
       "      <td>California</td>\n",
       "      <td>34.5</td>\n",
       "      <td>88127</td>\n",
       "      <td>87105</td>\n",
       "      <td>175232</td>\n",
       "      <td>5821</td>\n",
       "      <td>33878</td>\n",
       "      <td>3.18</td>\n",
       "      <td>CA</td>\n",
       "      <td>Black or African-American</td>\n",
       "      <td>24437</td>\n",
       "    </tr>\n",
       "    <tr>\n",
       "      <th>4</th>\n",
       "      <td>Newark</td>\n",
       "      <td>New Jersey</td>\n",
       "      <td>34.6</td>\n",
       "      <td>138040</td>\n",
       "      <td>143873</td>\n",
       "      <td>281913</td>\n",
       "      <td>5829</td>\n",
       "      <td>86253</td>\n",
       "      <td>2.73</td>\n",
       "      <td>NJ</td>\n",
       "      <td>White</td>\n",
       "      <td>76402</td>\n",
       "    </tr>\n",
       "  </tbody>\n",
       "</table>\n",
       "</div>"
      ],
      "text/plain": [
       "               City          State Median Age Male Population  \\\n",
       "0     Silver Spring       Maryland       33.8           40601   \n",
       "1            Quincy  Massachusetts       41.0           44129   \n",
       "2            Hoover        Alabama       38.5           38040   \n",
       "3  Rancho Cucamonga     California       34.5           88127   \n",
       "4            Newark     New Jersey       34.6          138040   \n",
       "\n",
       "  Female Population Total Population Number of Veterans Foreign-born  \\\n",
       "0             41862            82463               1562        30908   \n",
       "1             49500            93629               4147        32935   \n",
       "2             46799            84839               4819         8229   \n",
       "3             87105           175232               5821        33878   \n",
       "4            143873           281913               5829        86253   \n",
       "\n",
       "  Average Household Size State Code                       Race  Count  \n",
       "0                    2.6         MD         Hispanic or Latino  25924  \n",
       "1                   2.39         MA                      White  58723  \n",
       "2                   2.58         AL                      Asian   4759  \n",
       "3                   3.18         CA  Black or African-American  24437  \n",
       "4                   2.73         NJ                      White  76402  "
      ]
     },
     "execution_count": 24,
     "metadata": {},
     "output_type": "execute_result"
    }
   ],
   "source": [
    "demographics_df.limit(5).toPandas()"
   ]
  },
  {
   "cell_type": "code",
   "execution_count": 25,
   "metadata": {
    "editable": true
   },
   "outputs": [
    {
     "data": {
      "text/html": [
       "<div>\n",
       "<style scoped>\n",
       "    .dataframe tbody tr th:only-of-type {\n",
       "        vertical-align: middle;\n",
       "    }\n",
       "\n",
       "    .dataframe tbody tr th {\n",
       "        vertical-align: top;\n",
       "    }\n",
       "\n",
       "    .dataframe thead th {\n",
       "        text-align: right;\n",
       "    }\n",
       "</style>\n",
       "<table border=\"1\" class=\"dataframe\">\n",
       "  <thead>\n",
       "    <tr style=\"text-align: right;\">\n",
       "      <th></th>\n",
       "      <th>Race</th>\n",
       "    </tr>\n",
       "  </thead>\n",
       "  <tbody>\n",
       "    <tr>\n",
       "      <th>0</th>\n",
       "      <td>Black or African-American</td>\n",
       "    </tr>\n",
       "    <tr>\n",
       "      <th>1</th>\n",
       "      <td>Hispanic or Latino</td>\n",
       "    </tr>\n",
       "    <tr>\n",
       "      <th>2</th>\n",
       "      <td>White</td>\n",
       "    </tr>\n",
       "    <tr>\n",
       "      <th>3</th>\n",
       "      <td>Asian</td>\n",
       "    </tr>\n",
       "    <tr>\n",
       "      <th>4</th>\n",
       "      <td>American Indian and Alaska Native</td>\n",
       "    </tr>\n",
       "  </tbody>\n",
       "</table>\n",
       "</div>"
      ],
      "text/plain": [
       "                                Race\n",
       "0          Black or African-American\n",
       "1                 Hispanic or Latino\n",
       "2                              White\n",
       "3                              Asian\n",
       "4  American Indian and Alaska Native"
      ]
     },
     "execution_count": 25,
     "metadata": {},
     "output_type": "execute_result"
    }
   ],
   "source": [
    "demographics_df.select(col(\"Race\")).distinct().toPandas()"
   ]
  },
  {
   "cell_type": "code",
   "execution_count": 26,
   "metadata": {
    "editable": true
   },
   "outputs": [],
   "source": [
    "demographics_df = DataCleaner.clean_demographics(demographics_df)"
   ]
  },
  {
   "cell_type": "code",
   "execution_count": 27,
   "metadata": {
    "editable": true
   },
   "outputs": [
    {
     "data": {
      "text/html": [
       "<div>\n",
       "<style scoped>\n",
       "    .dataframe tbody tr th:only-of-type {\n",
       "        vertical-align: middle;\n",
       "    }\n",
       "\n",
       "    .dataframe tbody tr th {\n",
       "        vertical-align: top;\n",
       "    }\n",
       "\n",
       "    .dataframe thead th {\n",
       "        text-align: right;\n",
       "    }\n",
       "</style>\n",
       "<table border=\"1\" class=\"dataframe\">\n",
       "  <thead>\n",
       "    <tr style=\"text-align: right;\">\n",
       "      <th></th>\n",
       "      <th>City</th>\n",
       "      <th>State</th>\n",
       "      <th>Median Age</th>\n",
       "      <th>Male Population</th>\n",
       "      <th>Female Population</th>\n",
       "      <th>Total Population</th>\n",
       "      <th>Number of Veterans</th>\n",
       "      <th>Foreign-born</th>\n",
       "      <th>Average Household Size</th>\n",
       "      <th>State Code</th>\n",
       "      <th>American Indian and Alaska Native</th>\n",
       "      <th>Asian</th>\n",
       "      <th>Black or African-American</th>\n",
       "      <th>Hispanic or Latino</th>\n",
       "      <th>White</th>\n",
       "    </tr>\n",
       "  </thead>\n",
       "  <tbody>\n",
       "    <tr>\n",
       "      <th>0</th>\n",
       "      <td>Skokie</td>\n",
       "      <td>Illinois</td>\n",
       "      <td>43.4</td>\n",
       "      <td>31382</td>\n",
       "      <td>33437</td>\n",
       "      <td>64819</td>\n",
       "      <td>1066</td>\n",
       "      <td>27424</td>\n",
       "      <td>2.78</td>\n",
       "      <td>IL</td>\n",
       "      <td>0</td>\n",
       "      <td>20272</td>\n",
       "      <td>4937</td>\n",
       "      <td>6590</td>\n",
       "      <td>40642</td>\n",
       "    </tr>\n",
       "    <tr>\n",
       "      <th>1</th>\n",
       "      <td>Charlotte</td>\n",
       "      <td>North Carolina</td>\n",
       "      <td>34.3</td>\n",
       "      <td>396646</td>\n",
       "      <td>430475</td>\n",
       "      <td>827121</td>\n",
       "      <td>36046</td>\n",
       "      <td>128897</td>\n",
       "      <td>2.52</td>\n",
       "      <td>NC</td>\n",
       "      <td>8746</td>\n",
       "      <td>55399</td>\n",
       "      <td>301568</td>\n",
       "      <td>113731</td>\n",
       "      <td>446795</td>\n",
       "    </tr>\n",
       "    <tr>\n",
       "      <th>2</th>\n",
       "      <td>Manchester</td>\n",
       "      <td>New Hampshire</td>\n",
       "      <td>37.3</td>\n",
       "      <td>54845</td>\n",
       "      <td>55378</td>\n",
       "      <td>110223</td>\n",
       "      <td>5473</td>\n",
       "      <td>14506</td>\n",
       "      <td>2.4</td>\n",
       "      <td>NH</td>\n",
       "      <td>558</td>\n",
       "      <td>4304</td>\n",
       "      <td>6896</td>\n",
       "      <td>11962</td>\n",
       "      <td>100108</td>\n",
       "    </tr>\n",
       "    <tr>\n",
       "      <th>3</th>\n",
       "      <td>Chico</td>\n",
       "      <td>California</td>\n",
       "      <td>29.9</td>\n",
       "      <td>46168</td>\n",
       "      <td>44168</td>\n",
       "      <td>90336</td>\n",
       "      <td>4519</td>\n",
       "      <td>8425</td>\n",
       "      <td>2.5</td>\n",
       "      <td>CA</td>\n",
       "      <td>2766</td>\n",
       "      <td>6101</td>\n",
       "      <td>3164</td>\n",
       "      <td>15578</td>\n",
       "      <td>80467</td>\n",
       "    </tr>\n",
       "    <tr>\n",
       "      <th>4</th>\n",
       "      <td>Silver Spring</td>\n",
       "      <td>Maryland</td>\n",
       "      <td>33.8</td>\n",
       "      <td>40601</td>\n",
       "      <td>41862</td>\n",
       "      <td>82463</td>\n",
       "      <td>1562</td>\n",
       "      <td>30908</td>\n",
       "      <td>2.6</td>\n",
       "      <td>MD</td>\n",
       "      <td>1084</td>\n",
       "      <td>8841</td>\n",
       "      <td>21330</td>\n",
       "      <td>25924</td>\n",
       "      <td>37756</td>\n",
       "    </tr>\n",
       "  </tbody>\n",
       "</table>\n",
       "</div>"
      ],
      "text/plain": [
       "            City           State Median Age Male Population Female Population  \\\n",
       "0         Skokie        Illinois       43.4           31382             33437   \n",
       "1      Charlotte  North Carolina       34.3          396646            430475   \n",
       "2     Manchester   New Hampshire       37.3           54845             55378   \n",
       "3          Chico      California       29.9           46168             44168   \n",
       "4  Silver Spring        Maryland       33.8           40601             41862   \n",
       "\n",
       "  Total Population Number of Veterans Foreign-born Average Household Size  \\\n",
       "0            64819               1066        27424                   2.78   \n",
       "1           827121              36046       128897                   2.52   \n",
       "2           110223               5473        14506                    2.4   \n",
       "3            90336               4519         8425                    2.5   \n",
       "4            82463               1562        30908                    2.6   \n",
       "\n",
       "  State Code  American Indian and Alaska Native  Asian  \\\n",
       "0         IL                                  0  20272   \n",
       "1         NC                               8746  55399   \n",
       "2         NH                                558   4304   \n",
       "3         CA                               2766   6101   \n",
       "4         MD                               1084   8841   \n",
       "\n",
       "   Black or African-American  Hispanic or Latino   White  \n",
       "0                       4937                6590   40642  \n",
       "1                     301568              113731  446795  \n",
       "2                       6896               11962  100108  \n",
       "3                       3164               15578   80467  \n",
       "4                      21330               25924   37756  "
      ]
     },
     "execution_count": 27,
     "metadata": {},
     "output_type": "execute_result"
    }
   ],
   "source": [
    "demographics_df.limit(5).toPandas()"
   ]
  },
  {
   "cell_type": "markdown",
   "metadata": {
    "editable": true
   },
   "source": [
    "##### Immigration data"
   ]
  },
  {
   "cell_type": "code",
   "execution_count": 28,
   "metadata": {
    "editable": true
   },
   "outputs": [],
   "source": [
    "immigration_df = spark.read.parquet(data_source_paths[\"immigration\"])"
   ]
  },
  {
   "cell_type": "code",
   "execution_count": 29,
   "metadata": {
    "editable": true
   },
   "outputs": [],
   "source": [
    "immigration_df = DataCleaner.clean_immigration(immigration_df)"
   ]
  },
  {
   "cell_type": "code",
   "execution_count": 30,
   "metadata": {
    "editable": true
   },
   "outputs": [
    {
     "data": {
      "text/html": [
       "<div>\n",
       "<style scoped>\n",
       "    .dataframe tbody tr th:only-of-type {\n",
       "        vertical-align: middle;\n",
       "    }\n",
       "\n",
       "    .dataframe tbody tr th {\n",
       "        vertical-align: top;\n",
       "    }\n",
       "\n",
       "    .dataframe thead th {\n",
       "        text-align: right;\n",
       "    }\n",
       "</style>\n",
       "<table border=\"1\" class=\"dataframe\">\n",
       "  <thead>\n",
       "    <tr style=\"text-align: right;\">\n",
       "      <th></th>\n",
       "      <th>arrival_year</th>\n",
       "      <th>arrival_month</th>\n",
       "      <th>port_code</th>\n",
       "      <th>mode_code</th>\n",
       "      <th>state_code</th>\n",
       "      <th>i94bir</th>\n",
       "      <th>visa_code</th>\n",
       "      <th>dtadfile</th>\n",
       "      <th>visapost</th>\n",
       "      <th>occup</th>\n",
       "      <th>...</th>\n",
       "      <th>airline</th>\n",
       "      <th>admnum</th>\n",
       "      <th>fltno</th>\n",
       "      <th>visatype</th>\n",
       "      <th>cic_id</th>\n",
       "      <th>origin_city_code</th>\n",
       "      <th>origin_country_code</th>\n",
       "      <th>arrival_date</th>\n",
       "      <th>departure_date</th>\n",
       "      <th>arrival_day</th>\n",
       "    </tr>\n",
       "  </thead>\n",
       "  <tbody>\n",
       "    <tr>\n",
       "      <th>0</th>\n",
       "      <td>2016</td>\n",
       "      <td>4</td>\n",
       "      <td>LOS</td>\n",
       "      <td>1</td>\n",
       "      <td>CA</td>\n",
       "      <td>40</td>\n",
       "      <td>1</td>\n",
       "      <td>2016-04-30</td>\n",
       "      <td>SYD</td>\n",
       "      <td>None</td>\n",
       "      <td>...</td>\n",
       "      <td>QF</td>\n",
       "      <td>9.495387e+10</td>\n",
       "      <td>00011</td>\n",
       "      <td>B1</td>\n",
       "      <td>5748517</td>\n",
       "      <td>245</td>\n",
       "      <td>438</td>\n",
       "      <td>2016-04-30</td>\n",
       "      <td>2016-05-08</td>\n",
       "      <td>30</td>\n",
       "    </tr>\n",
       "    <tr>\n",
       "      <th>1</th>\n",
       "      <td>2016</td>\n",
       "      <td>4</td>\n",
       "      <td>LOS</td>\n",
       "      <td>1</td>\n",
       "      <td>NV</td>\n",
       "      <td>32</td>\n",
       "      <td>1</td>\n",
       "      <td>2016-04-30</td>\n",
       "      <td>SYD</td>\n",
       "      <td>None</td>\n",
       "      <td>...</td>\n",
       "      <td>VA</td>\n",
       "      <td>9.495562e+10</td>\n",
       "      <td>00007</td>\n",
       "      <td>B1</td>\n",
       "      <td>5748518</td>\n",
       "      <td>245</td>\n",
       "      <td>438</td>\n",
       "      <td>2016-04-30</td>\n",
       "      <td>2016-05-17</td>\n",
       "      <td>30</td>\n",
       "    </tr>\n",
       "    <tr>\n",
       "      <th>2</th>\n",
       "      <td>2016</td>\n",
       "      <td>4</td>\n",
       "      <td>LOS</td>\n",
       "      <td>1</td>\n",
       "      <td>WA</td>\n",
       "      <td>29</td>\n",
       "      <td>1</td>\n",
       "      <td>2016-04-30</td>\n",
       "      <td>SYD</td>\n",
       "      <td>None</td>\n",
       "      <td>...</td>\n",
       "      <td>DL</td>\n",
       "      <td>9.495641e+10</td>\n",
       "      <td>00040</td>\n",
       "      <td>B1</td>\n",
       "      <td>5748519</td>\n",
       "      <td>245</td>\n",
       "      <td>438</td>\n",
       "      <td>2016-04-30</td>\n",
       "      <td>2016-05-08</td>\n",
       "      <td>30</td>\n",
       "    </tr>\n",
       "    <tr>\n",
       "      <th>3</th>\n",
       "      <td>2016</td>\n",
       "      <td>4</td>\n",
       "      <td>LOS</td>\n",
       "      <td>1</td>\n",
       "      <td>WA</td>\n",
       "      <td>29</td>\n",
       "      <td>1</td>\n",
       "      <td>2016-04-30</td>\n",
       "      <td>SYD</td>\n",
       "      <td>None</td>\n",
       "      <td>...</td>\n",
       "      <td>DL</td>\n",
       "      <td>9.495645e+10</td>\n",
       "      <td>00040</td>\n",
       "      <td>B1</td>\n",
       "      <td>5748520</td>\n",
       "      <td>245</td>\n",
       "      <td>438</td>\n",
       "      <td>2016-04-30</td>\n",
       "      <td>2016-05-14</td>\n",
       "      <td>30</td>\n",
       "    </tr>\n",
       "    <tr>\n",
       "      <th>4</th>\n",
       "      <td>2016</td>\n",
       "      <td>4</td>\n",
       "      <td>LOS</td>\n",
       "      <td>1</td>\n",
       "      <td>WA</td>\n",
       "      <td>28</td>\n",
       "      <td>1</td>\n",
       "      <td>2016-04-30</td>\n",
       "      <td>SYD</td>\n",
       "      <td>None</td>\n",
       "      <td>...</td>\n",
       "      <td>DL</td>\n",
       "      <td>9.495639e+10</td>\n",
       "      <td>00040</td>\n",
       "      <td>B1</td>\n",
       "      <td>5748521</td>\n",
       "      <td>245</td>\n",
       "      <td>438</td>\n",
       "      <td>2016-04-30</td>\n",
       "      <td>2016-05-14</td>\n",
       "      <td>30</td>\n",
       "    </tr>\n",
       "    <tr>\n",
       "      <th>5</th>\n",
       "      <td>2016</td>\n",
       "      <td>4</td>\n",
       "      <td>HHW</td>\n",
       "      <td>1</td>\n",
       "      <td>HI</td>\n",
       "      <td>57</td>\n",
       "      <td>2</td>\n",
       "      <td>2016-04-30</td>\n",
       "      <td>ACK</td>\n",
       "      <td>None</td>\n",
       "      <td>...</td>\n",
       "      <td>NZ</td>\n",
       "      <td>9.498180e+10</td>\n",
       "      <td>00010</td>\n",
       "      <td>B2</td>\n",
       "      <td>5748522</td>\n",
       "      <td>245</td>\n",
       "      <td>464</td>\n",
       "      <td>2016-04-30</td>\n",
       "      <td>2016-05-05</td>\n",
       "      <td>30</td>\n",
       "    </tr>\n",
       "    <tr>\n",
       "      <th>6</th>\n",
       "      <td>2016</td>\n",
       "      <td>4</td>\n",
       "      <td>HHW</td>\n",
       "      <td>1</td>\n",
       "      <td>HI</td>\n",
       "      <td>66</td>\n",
       "      <td>2</td>\n",
       "      <td>2016-04-30</td>\n",
       "      <td>ACK</td>\n",
       "      <td>None</td>\n",
       "      <td>...</td>\n",
       "      <td>NZ</td>\n",
       "      <td>9.497969e+10</td>\n",
       "      <td>00010</td>\n",
       "      <td>B2</td>\n",
       "      <td>5748523</td>\n",
       "      <td>245</td>\n",
       "      <td>464</td>\n",
       "      <td>2016-04-30</td>\n",
       "      <td>2016-05-12</td>\n",
       "      <td>30</td>\n",
       "    </tr>\n",
       "    <tr>\n",
       "      <th>7</th>\n",
       "      <td>2016</td>\n",
       "      <td>4</td>\n",
       "      <td>HHW</td>\n",
       "      <td>1</td>\n",
       "      <td>HI</td>\n",
       "      <td>41</td>\n",
       "      <td>2</td>\n",
       "      <td>2016-04-30</td>\n",
       "      <td>ACK</td>\n",
       "      <td>None</td>\n",
       "      <td>...</td>\n",
       "      <td>NZ</td>\n",
       "      <td>9.497975e+10</td>\n",
       "      <td>00010</td>\n",
       "      <td>B2</td>\n",
       "      <td>5748524</td>\n",
       "      <td>245</td>\n",
       "      <td>464</td>\n",
       "      <td>2016-04-30</td>\n",
       "      <td>2016-05-12</td>\n",
       "      <td>30</td>\n",
       "    </tr>\n",
       "    <tr>\n",
       "      <th>8</th>\n",
       "      <td>2016</td>\n",
       "      <td>4</td>\n",
       "      <td>HOU</td>\n",
       "      <td>1</td>\n",
       "      <td>FL</td>\n",
       "      <td>27</td>\n",
       "      <td>2</td>\n",
       "      <td>2016-04-30</td>\n",
       "      <td>ACK</td>\n",
       "      <td>None</td>\n",
       "      <td>...</td>\n",
       "      <td>NZ</td>\n",
       "      <td>9.497325e+10</td>\n",
       "      <td>00028</td>\n",
       "      <td>B2</td>\n",
       "      <td>5748525</td>\n",
       "      <td>245</td>\n",
       "      <td>464</td>\n",
       "      <td>2016-04-30</td>\n",
       "      <td>2016-05-07</td>\n",
       "      <td>30</td>\n",
       "    </tr>\n",
       "    <tr>\n",
       "      <th>9</th>\n",
       "      <td>2016</td>\n",
       "      <td>4</td>\n",
       "      <td>LOS</td>\n",
       "      <td>1</td>\n",
       "      <td>CA</td>\n",
       "      <td>26</td>\n",
       "      <td>2</td>\n",
       "      <td>2016-04-30</td>\n",
       "      <td>ACK</td>\n",
       "      <td>None</td>\n",
       "      <td>...</td>\n",
       "      <td>NZ</td>\n",
       "      <td>9.501355e+10</td>\n",
       "      <td>00002</td>\n",
       "      <td>B2</td>\n",
       "      <td>5748526</td>\n",
       "      <td>245</td>\n",
       "      <td>464</td>\n",
       "      <td>2016-04-30</td>\n",
       "      <td>2016-05-07</td>\n",
       "      <td>30</td>\n",
       "    </tr>\n",
       "  </tbody>\n",
       "</table>\n",
       "<p>10 rows × 24 columns</p>\n",
       "</div>"
      ],
      "text/plain": [
       "   arrival_year  arrival_month port_code  mode_code state_code  i94bir  \\\n",
       "0          2016              4       LOS          1         CA      40   \n",
       "1          2016              4       LOS          1         NV      32   \n",
       "2          2016              4       LOS          1         WA      29   \n",
       "3          2016              4       LOS          1         WA      29   \n",
       "4          2016              4       LOS          1         WA      28   \n",
       "5          2016              4       HHW          1         HI      57   \n",
       "6          2016              4       HHW          1         HI      66   \n",
       "7          2016              4       HHW          1         HI      41   \n",
       "8          2016              4       HOU          1         FL      27   \n",
       "9          2016              4       LOS          1         CA      26   \n",
       "\n",
       "   visa_code    dtadfile visapost occup     ...      airline        admnum  \\\n",
       "0          1  2016-04-30      SYD  None     ...           QF  9.495387e+10   \n",
       "1          1  2016-04-30      SYD  None     ...           VA  9.495562e+10   \n",
       "2          1  2016-04-30      SYD  None     ...           DL  9.495641e+10   \n",
       "3          1  2016-04-30      SYD  None     ...           DL  9.495645e+10   \n",
       "4          1  2016-04-30      SYD  None     ...           DL  9.495639e+10   \n",
       "5          2  2016-04-30      ACK  None     ...           NZ  9.498180e+10   \n",
       "6          2  2016-04-30      ACK  None     ...           NZ  9.497969e+10   \n",
       "7          2  2016-04-30      ACK  None     ...           NZ  9.497975e+10   \n",
       "8          2  2016-04-30      ACK  None     ...           NZ  9.497325e+10   \n",
       "9          2  2016-04-30      ACK  None     ...           NZ  9.501355e+10   \n",
       "\n",
       "   fltno visatype   cic_id  origin_city_code origin_country_code arrival_date  \\\n",
       "0  00011       B1  5748517               245                 438   2016-04-30   \n",
       "1  00007       B1  5748518               245                 438   2016-04-30   \n",
       "2  00040       B1  5748519               245                 438   2016-04-30   \n",
       "3  00040       B1  5748520               245                 438   2016-04-30   \n",
       "4  00040       B1  5748521               245                 438   2016-04-30   \n",
       "5  00010       B2  5748522               245                 464   2016-04-30   \n",
       "6  00010       B2  5748523               245                 464   2016-04-30   \n",
       "7  00010       B2  5748524               245                 464   2016-04-30   \n",
       "8  00028       B2  5748525               245                 464   2016-04-30   \n",
       "9  00002       B2  5748526               245                 464   2016-04-30   \n",
       "\n",
       "   departure_date  arrival_day  \n",
       "0      2016-05-08           30  \n",
       "1      2016-05-17           30  \n",
       "2      2016-05-08           30  \n",
       "3      2016-05-14           30  \n",
       "4      2016-05-14           30  \n",
       "5      2016-05-05           30  \n",
       "6      2016-05-12           30  \n",
       "7      2016-05-12           30  \n",
       "8      2016-05-07           30  \n",
       "9      2016-05-07           30  \n",
       "\n",
       "[10 rows x 24 columns]"
      ]
     },
     "execution_count": 30,
     "metadata": {},
     "output_type": "execute_result"
    }
   ],
   "source": [
    "immigration_df.limit(10).toPandas()"
   ]
  },
  {
   "cell_type": "markdown",
   "metadata": {
    "editable": true
   },
   "source": [
    "### Step 3: Define the Data Model"
   ]
  },
  {
   "cell_type": "markdown",
   "metadata": {
    "editable": true
   },
   "source": [
    "#### 3.1 Conceptual Data Model\n",
    "\n",
    "Star schema was chosen for the model since due to the fact that it's straightforward and easy to understand by the business and data doesn't require different levels of granularity to use the snowflake schema. It's also easy to maintain and reduces complexity of various queries performed on the dataset\n",
    "\n",
    "--- \n",
    "\n",
    "**Dimension Tables**\n",
    "\n",
    "**dim_demographics**\n",
    "   - *city*, \n",
    "   - *state*, \n",
    "   - *male_population*, \n",
    "   - *female_population*, \n",
    "   - *total_population*, \n",
    "   - *foreign_born*, \n",
    "   - ***state_code***, \n",
    "   - *white*,\n",
    "   - *asian*, \n",
    "   - *hispanic_or_latino*, \n",
    "   - *black_or_african_american*, \n",
    "   - *american_indian_or_alaskan*\n",
    "   \n",
    "**dim_countries**\n",
    "   - ***country_code***, \n",
    "   - *country*\n",
    "   \n",
    "**dim_airports**\n",
    "   - *ident*, \n",
    "   - *type*, \n",
    "   - *name*, \n",
    "   - *elevation_ft*, \n",
    "   - *continent*, \n",
    "   - *iso_country*, \n",
    "   - *iso_region*, \n",
    "   - *municipality*, \n",
    "   - *gps_code*, \n",
    "   - *iata_code*, \n",
    "   - ***local_code***, \n",
    "   - *coordinates*\n",
    "   \n",
    "**dim_modes**\n",
    "   - ***mode_code***, \n",
    "   - *mode*\n",
    "   \n",
    "**dim_visa**\n",
    "   - ***visa_code***, \n",
    "   - *visa_type*\n",
    "   \n",
    "**dim_airlines**\n",
    "   - ***iata_code***, \n",
    "   - *icao_code*, \n",
    "   - *airline*, \n",
    "   - *country*\n",
    "     \n",
    "---      \n",
    "    \n",
    "**Fact Table**\n",
    "\n",
    "**fact_immigration**\n",
    "   - *cic_id*, \n",
    "   - ***port_code***, \n",
    "   - ***state_code***, \n",
    "   - ***visa_code***, \n",
    "   - ***mode_code***, \n",
    "   - ***origin_country_code***, \n",
    "   - *origin_city_code*, \n",
    "   - *arrival_date*, \n",
    "   - *arrival_year*, \n",
    "   - ***arrival_month***, \n",
    "   - *arrival_day*, \n",
    "   - *departure_date*, \n",
    "   - *matflag*, \n",
    "   - *visapost*, \n",
    "   - *dtaddto*, \n",
    "   - *biryear*, \n",
    "   - *gender*, \n",
    "   - ***airline***, \n",
    "   - *admnum*, \n",
    "   - *occup*, \n",
    "   - *fltno*, \n",
    "   - *visatype*\n",
    "\n"
   ]
  },
  {
   "cell_type": "markdown",
   "metadata": {
    "editable": true
   },
   "source": [
    "#### 3.2 Mapping Out Data Pipelines\n",
    "The following steps need to be taken to pipeline the data:\n",
    "- Extract I94 data labels and store them in the separate csv files\n",
    "- Clean the data: \n",
    "   - *filter meaningful data*\n",
    "   - *handle missing values*, \n",
    "   - *split strings into separate columns*, \n",
    "   - *extract dates*, \n",
    "   - *assign proper data types*\n",
    "- Transform datasets\n",
    "- Generate Model (Star Schema):\n",
    "   - *Create all dimension tables and save them in parquet format.*\n",
    "   - *Create fact table in parquet and partition data by year, month, day of arrival date.*\n",
    "   - *Populate data in fact table in the way that provides integrity and consistency.*"
   ]
  },
  {
   "cell_type": "markdown",
   "metadata": {
    "editable": true
   },
   "source": [
    "### Step 4: Run Pipelines to Model the Data \n",
    "#### 4.1 Create the data model\n",
    "Build the data pipelines to create the data model."
   ]
  },
  {
   "cell_type": "code",
   "execution_count": 31,
   "metadata": {
    "editable": true
   },
   "outputs": [],
   "source": [
    "demographics_df = DataTransformer.transform_demographics(demographics_df)"
   ]
  },
  {
   "cell_type": "code",
   "execution_count": 32,
   "metadata": {
    "editable": true
   },
   "outputs": [],
   "source": [
    "model_paths = {\n",
    "    \"demographics\" : \"./model/dim_demographics.parquet\",\n",
    "    \"countries\" : \"./model/dim_countries.parquet\",\n",
    "    \"visa\" : \"./model/dim_visa.parquet\",\n",
    "    \"modes\" : \"./model/dim_mode.parquet\",\n",
    "    \"airports\" :  \"./model/dim_airports.parquet\",\n",
    "    \"airlines\" : \"./model/dim_airlines.parquet\",\n",
    "    \"facts\" : \"./model/fact_immigration.parquet\"\n",
    "}"
   ]
  },
  {
   "cell_type": "code",
   "execution_count": 33,
   "metadata": {
    "editable": true
   },
   "outputs": [],
   "source": [
    "model = DataModeler(spark, model_paths)"
   ]
  },
  {
   "cell_type": "code",
   "execution_count": 34,
   "metadata": {
    "editable": true
   },
   "outputs": [],
   "source": [
    "model.model_dwh(immigration_df, demographics_df, countries_df, visa_df, modes_df, airports_df, airlines_df)"
   ]
  },
  {
   "cell_type": "markdown",
   "metadata": {
    "editable": true
   },
   "source": [
    "#### 4.2 Data Quality Checks\n",
    "Explain the data quality checks you'll perform to ensure the pipeline ran as expected. These could include:\n",
    " - Integrity constraints on the relational database (e.g., unique key, data type, etc.)\n",
    " - Unit tests for the scripts to ensure they are doing the right thing\n",
    " - Source/Count checks to ensure completeness\n",
    " \n",
    "Run Quality Checks"
   ]
  },
  {
   "cell_type": "code",
   "execution_count": 38,
   "metadata": {
    "editable": true
   },
   "outputs": [],
   "source": [
    "validator = DataValidator(spark, model_paths)"
   ]
  },
  {
   "cell_type": "code",
   "execution_count": 39,
   "metadata": {
    "editable": true
   },
   "outputs": [],
   "source": [
    "facts = validator.get_facts()"
   ]
  },
  {
   "cell_type": "code",
   "execution_count": 40,
   "metadata": {
    "editable": true
   },
   "outputs": [],
   "source": [
    "dim_demographics, dim_countries, dim_visa, dim_mode, dim_airports, dim_airlines = validator.get_dimensions()"
   ]
  },
  {
   "cell_type": "markdown",
   "metadata": {
    "editable": true
   },
   "source": [
    "##### Validate all dimensions have data"
   ]
  },
  {
   "cell_type": "code",
   "execution_count": 41,
   "metadata": {
    "editable": true
   },
   "outputs": [
    {
     "data": {
      "text/plain": [
       "True"
      ]
     },
     "execution_count": 41,
     "metadata": {},
     "output_type": "execute_result"
    }
   ],
   "source": [
    "validator.check_rows_exist(dim_demographics)"
   ]
  },
  {
   "cell_type": "code",
   "execution_count": 42,
   "metadata": {
    "editable": true
   },
   "outputs": [
    {
     "data": {
      "text/plain": [
       "True"
      ]
     },
     "execution_count": 42,
     "metadata": {},
     "output_type": "execute_result"
    }
   ],
   "source": [
    "validator.check_rows_exist(dim_countries)"
   ]
  },
  {
   "cell_type": "code",
   "execution_count": 43,
   "metadata": {
    "editable": true
   },
   "outputs": [
    {
     "data": {
      "text/plain": [
       "True"
      ]
     },
     "execution_count": 43,
     "metadata": {},
     "output_type": "execute_result"
    }
   ],
   "source": [
    "validator.check_rows_exist(dim_visa)"
   ]
  },
  {
   "cell_type": "code",
   "execution_count": 44,
   "metadata": {
    "editable": true
   },
   "outputs": [
    {
     "data": {
      "text/plain": [
       "True"
      ]
     },
     "execution_count": 44,
     "metadata": {},
     "output_type": "execute_result"
    }
   ],
   "source": [
    "validator.check_rows_exist(dim_mode)"
   ]
  },
  {
   "cell_type": "code",
   "execution_count": 45,
   "metadata": {
    "editable": true
   },
   "outputs": [
    {
     "data": {
      "text/plain": [
       "True"
      ]
     },
     "execution_count": 45,
     "metadata": {},
     "output_type": "execute_result"
    }
   ],
   "source": [
    "validator.check_rows_exist(dim_airports)"
   ]
  },
  {
   "cell_type": "code",
   "execution_count": 46,
   "metadata": {
    "editable": true
   },
   "outputs": [
    {
     "data": {
      "text/plain": [
       "True"
      ]
     },
     "execution_count": 46,
     "metadata": {},
     "output_type": "execute_result"
    }
   ],
   "source": [
    "validator.check_rows_exist(dim_airlines)"
   ]
  },
  {
   "cell_type": "markdown",
   "metadata": {
    "editable": true
   },
   "source": [
    "##### Validate unique records"
   ]
  },
  {
   "cell_type": "code",
   "execution_count": 47,
   "metadata": {
    "editable": true
   },
   "outputs": [
    {
     "data": {
      "text/plain": [
       "True"
      ]
     },
     "execution_count": 47,
     "metadata": {},
     "output_type": "execute_result"
    }
   ],
   "source": [
    "validator.check_unique_records(dim_demographics)"
   ]
  },
  {
   "cell_type": "code",
   "execution_count": 48,
   "metadata": {
    "editable": true
   },
   "outputs": [
    {
     "data": {
      "text/plain": [
       "True"
      ]
     },
     "execution_count": 48,
     "metadata": {},
     "output_type": "execute_result"
    }
   ],
   "source": [
    "validator.check_unique_records(dim_countries)"
   ]
  },
  {
   "cell_type": "code",
   "execution_count": 49,
   "metadata": {
    "editable": true
   },
   "outputs": [
    {
     "data": {
      "text/plain": [
       "True"
      ]
     },
     "execution_count": 49,
     "metadata": {},
     "output_type": "execute_result"
    }
   ],
   "source": [
    "validator.check_unique_records(dim_visa)"
   ]
  },
  {
   "cell_type": "code",
   "execution_count": 50,
   "metadata": {
    "editable": true
   },
   "outputs": [
    {
     "data": {
      "text/plain": [
       "True"
      ]
     },
     "execution_count": 50,
     "metadata": {},
     "output_type": "execute_result"
    }
   ],
   "source": [
    "validator.check_unique_records(dim_mode)"
   ]
  },
  {
   "cell_type": "code",
   "execution_count": 51,
   "metadata": {
    "editable": true
   },
   "outputs": [
    {
     "data": {
      "text/plain": [
       "True"
      ]
     },
     "execution_count": 51,
     "metadata": {},
     "output_type": "execute_result"
    }
   ],
   "source": [
    "validator.check_unique_records(dim_airports)"
   ]
  },
  {
   "cell_type": "code",
   "execution_count": 52,
   "metadata": {
    "editable": true
   },
   "outputs": [
    {
     "data": {
      "text/plain": [
       "True"
      ]
     },
     "execution_count": 52,
     "metadata": {},
     "output_type": "execute_result"
    }
   ],
   "source": [
    "validator.check_unique_records(dim_airlines)"
   ]
  },
  {
   "cell_type": "markdown",
   "metadata": {
    "editable": true
   },
   "source": [
    "##### Validate integrity and consistency of the model"
   ]
  },
  {
   "cell_type": "code",
   "execution_count": 53,
   "metadata": {
    "editable": true
   },
   "outputs": [
    {
     "data": {
      "text/plain": [
       "True"
      ]
     },
     "execution_count": 53,
     "metadata": {},
     "output_type": "execute_result"
    }
   ],
   "source": [
    "validator.check_integrity(facts, dim_demographics, dim_countries, dim_visa, dim_mode, dim_airports, dim_airlines)"
   ]
  },
  {
   "cell_type": "markdown",
   "metadata": {
    "editable": true
   },
   "source": [
    "#### 4.3 Data dictionary \n",
    "Data dictionary for the model is included in data_dictionary.md file"
   ]
  },
  {
   "cell_type": "markdown",
   "metadata": {
    "editable": true
   },
   "source": [
    "#### 4.4 Performing queries on the dataset"
   ]
  },
  {
   "cell_type": "code",
   "execution_count": 54,
   "metadata": {
    "editable": true
   },
   "outputs": [],
   "source": [
    "facts.createOrReplaceTempView('facts')\n",
    "dim_countries.createOrReplaceTempView('dim_countries')\n",
    "dim_visa.createOrReplaceTempView('dim_visa')"
   ]
  },
  {
   "cell_type": "markdown",
   "metadata": {
    "editable": true
   },
   "source": [
    "##### Getting countries that most people migrated from in April"
   ]
  },
  {
   "cell_type": "code",
   "execution_count": 66,
   "metadata": {
    "editable": true
   },
   "outputs": [
    {
     "data": {
      "text/html": [
       "<div>\n",
       "<style scoped>\n",
       "    .dataframe tbody tr th:only-of-type {\n",
       "        vertical-align: middle;\n",
       "    }\n",
       "\n",
       "    .dataframe tbody tr th {\n",
       "        vertical-align: top;\n",
       "    }\n",
       "\n",
       "    .dataframe thead th {\n",
       "        text-align: right;\n",
       "    }\n",
       "</style>\n",
       "<table border=\"1\" class=\"dataframe\">\n",
       "  <thead>\n",
       "    <tr style=\"text-align: right;\">\n",
       "      <th></th>\n",
       "      <th>country</th>\n",
       "      <th>num_immigrants</th>\n",
       "    </tr>\n",
       "  </thead>\n",
       "  <tbody>\n",
       "    <tr>\n",
       "      <th>0</th>\n",
       "      <td>JAPAN</td>\n",
       "      <td>115020</td>\n",
       "    </tr>\n",
       "    <tr>\n",
       "      <th>1</th>\n",
       "      <td>UNITED KINGDOM</td>\n",
       "      <td>109168</td>\n",
       "    </tr>\n",
       "    <tr>\n",
       "      <th>2</th>\n",
       "      <td>MEXICO Air Sea, and Not Reported (I-94, no lan...</td>\n",
       "      <td>88271</td>\n",
       "    </tr>\n",
       "    <tr>\n",
       "      <th>3</th>\n",
       "      <td>BRAZIL</td>\n",
       "      <td>85676</td>\n",
       "    </tr>\n",
       "    <tr>\n",
       "      <th>4</th>\n",
       "      <td>GERMANY</td>\n",
       "      <td>74079</td>\n",
       "    </tr>\n",
       "    <tr>\n",
       "      <th>5</th>\n",
       "      <td>FRANCE</td>\n",
       "      <td>61656</td>\n",
       "    </tr>\n",
       "    <tr>\n",
       "      <th>6</th>\n",
       "      <td>CHINA, PRC</td>\n",
       "      <td>49683</td>\n",
       "    </tr>\n",
       "    <tr>\n",
       "      <th>7</th>\n",
       "      <td>ARGENTINA</td>\n",
       "      <td>49423</td>\n",
       "    </tr>\n",
       "    <tr>\n",
       "      <th>8</th>\n",
       "      <td>INDIA</td>\n",
       "      <td>37931</td>\n",
       "    </tr>\n",
       "    <tr>\n",
       "      <th>9</th>\n",
       "      <td>AUSTRALIA</td>\n",
       "      <td>35945</td>\n",
       "    </tr>\n",
       "  </tbody>\n",
       "</table>\n",
       "</div>"
      ],
      "text/plain": [
       "                                             country  num_immigrants\n",
       "0                                              JAPAN          115020\n",
       "1                                     UNITED KINGDOM          109168\n",
       "2  MEXICO Air Sea, and Not Reported (I-94, no lan...           88271\n",
       "3                                             BRAZIL           85676\n",
       "4                                            GERMANY           74079\n",
       "5                                             FRANCE           61656\n",
       "6                                         CHINA, PRC           49683\n",
       "7                                          ARGENTINA           49423\n",
       "8                                              INDIA           37931\n",
       "9                                          AUSTRALIA           35945"
      ]
     },
     "execution_count": 66,
     "metadata": {},
     "output_type": "execute_result"
    }
   ],
   "source": [
    "query = \"SELECT C.country, COUNT(F.cic_id) AS num_immigrants \" \\\n",
    "        \"FROM facts F \" \\\n",
    "        \"INNER JOIN dim_countries C ON F.origin_country_code = C.country_code \" \\\n",
    "        \"WHERE F.arrival_month = 4 \" \\\n",
    "        \"GROUP BY C.country \" \\\n",
    "        \"ORDER BY num_immigrants DESC\"\n",
    "\n",
    "most_immigrants_countries = spark.sql(query)\n",
    "most_immigrants_countries.limit(10).toPandas()"
   ]
  },
  {
   "cell_type": "markdown",
   "metadata": {
    "editable": true
   },
   "source": [
    "##### Immigration by visa type"
   ]
  },
  {
   "cell_type": "code",
   "execution_count": 61,
   "metadata": {
    "editable": true
   },
   "outputs": [
    {
     "data": {
      "text/html": [
       "<div>\n",
       "<style scoped>\n",
       "    .dataframe tbody tr th:only-of-type {\n",
       "        vertical-align: middle;\n",
       "    }\n",
       "\n",
       "    .dataframe tbody tr th {\n",
       "        vertical-align: top;\n",
       "    }\n",
       "\n",
       "    .dataframe thead th {\n",
       "        text-align: right;\n",
       "    }\n",
       "</style>\n",
       "<table border=\"1\" class=\"dataframe\">\n",
       "  <thead>\n",
       "    <tr style=\"text-align: right;\">\n",
       "      <th></th>\n",
       "      <th>visa_type</th>\n",
       "      <th>num_visas</th>\n",
       "    </tr>\n",
       "  </thead>\n",
       "  <tbody>\n",
       "    <tr>\n",
       "      <th>0</th>\n",
       "      <td>Pleasure</td>\n",
       "      <td>995768</td>\n",
       "    </tr>\n",
       "    <tr>\n",
       "      <th>1</th>\n",
       "      <td>Business</td>\n",
       "      <td>222611</td>\n",
       "    </tr>\n",
       "    <tr>\n",
       "      <th>2</th>\n",
       "      <td>Student</td>\n",
       "      <td>15944</td>\n",
       "    </tr>\n",
       "  </tbody>\n",
       "</table>\n",
       "</div>"
      ],
      "text/plain": [
       "  visa_type  num_visas\n",
       "0  Pleasure     995768\n",
       "1  Business     222611\n",
       "2   Student      15944"
      ]
     },
     "execution_count": 61,
     "metadata": {},
     "output_type": "execute_result"
    }
   ],
   "source": [
    "query = \"SELECT V.visa_type, COUNT(F.cic_id) AS num_visas \" \\\n",
    "        \"FROM facts F \" \\\n",
    "        \"INNER JOIN dim_visa V ON F.visa_code = V.visa_code \" \\\n",
    "        \"GROUP BY V.visa_type \" \\\n",
    "        \"ORDER BY num_visas DESC\"\n",
    "\n",
    "immigration_by_visa_type = spark.sql(query)\n",
    "immigration_by_visa_type.limit(10).toPandas()"
   ]
  },
  {
   "cell_type": "markdown",
   "metadata": {
    "editable": true
   },
   "source": [
    "##### Student immigration by origin country and gender"
   ]
  },
  {
   "cell_type": "code",
   "execution_count": 64,
   "metadata": {
    "editable": true
   },
   "outputs": [
    {
     "data": {
      "text/html": [
       "<div>\n",
       "<style scoped>\n",
       "    .dataframe tbody tr th:only-of-type {\n",
       "        vertical-align: middle;\n",
       "    }\n",
       "\n",
       "    .dataframe tbody tr th {\n",
       "        vertical-align: top;\n",
       "    }\n",
       "\n",
       "    .dataframe thead th {\n",
       "        text-align: right;\n",
       "    }\n",
       "</style>\n",
       "<table border=\"1\" class=\"dataframe\">\n",
       "  <thead>\n",
       "    <tr style=\"text-align: right;\">\n",
       "      <th></th>\n",
       "      <th>country</th>\n",
       "      <th>gender</th>\n",
       "      <th>num_immigrants</th>\n",
       "    </tr>\n",
       "  </thead>\n",
       "  <tbody>\n",
       "    <tr>\n",
       "      <th>0</th>\n",
       "      <td>CHINA, PRC</td>\n",
       "      <td>M</td>\n",
       "      <td>1846</td>\n",
       "    </tr>\n",
       "    <tr>\n",
       "      <th>1</th>\n",
       "      <td>CHINA, PRC</td>\n",
       "      <td>F</td>\n",
       "      <td>1818</td>\n",
       "    </tr>\n",
       "    <tr>\n",
       "      <th>2</th>\n",
       "      <td>INDIA</td>\n",
       "      <td>M</td>\n",
       "      <td>714</td>\n",
       "    </tr>\n",
       "    <tr>\n",
       "      <th>3</th>\n",
       "      <td>JAPAN</td>\n",
       "      <td>F</td>\n",
       "      <td>565</td>\n",
       "    </tr>\n",
       "    <tr>\n",
       "      <th>4</th>\n",
       "      <td>BRAZIL</td>\n",
       "      <td>M</td>\n",
       "      <td>538</td>\n",
       "    </tr>\n",
       "    <tr>\n",
       "      <th>5</th>\n",
       "      <td>MEXICO Air Sea, and Not Reported (I-94, no lan...</td>\n",
       "      <td>M</td>\n",
       "      <td>531</td>\n",
       "    </tr>\n",
       "    <tr>\n",
       "      <th>6</th>\n",
       "      <td>MEXICO Air Sea, and Not Reported (I-94, no lan...</td>\n",
       "      <td>F</td>\n",
       "      <td>475</td>\n",
       "    </tr>\n",
       "    <tr>\n",
       "      <th>7</th>\n",
       "      <td>INDIA</td>\n",
       "      <td>F</td>\n",
       "      <td>472</td>\n",
       "    </tr>\n",
       "    <tr>\n",
       "      <th>8</th>\n",
       "      <td>SOUTH KOREA</td>\n",
       "      <td>F</td>\n",
       "      <td>446</td>\n",
       "    </tr>\n",
       "    <tr>\n",
       "      <th>9</th>\n",
       "      <td>BRAZIL</td>\n",
       "      <td>F</td>\n",
       "      <td>423</td>\n",
       "    </tr>\n",
       "  </tbody>\n",
       "</table>\n",
       "</div>"
      ],
      "text/plain": [
       "                                             country gender  num_immigrants\n",
       "0                                         CHINA, PRC      M            1846\n",
       "1                                         CHINA, PRC      F            1818\n",
       "2                                              INDIA      M             714\n",
       "3                                              JAPAN      F             565\n",
       "4                                             BRAZIL      M             538\n",
       "5  MEXICO Air Sea, and Not Reported (I-94, no lan...      M             531\n",
       "6  MEXICO Air Sea, and Not Reported (I-94, no lan...      F             475\n",
       "7                                              INDIA      F             472\n",
       "8                                        SOUTH KOREA      F             446\n",
       "9                                             BRAZIL      F             423"
      ]
     },
     "execution_count": 64,
     "metadata": {},
     "output_type": "execute_result"
    }
   ],
   "source": [
    "query = \"SELECT C.country, F.gender, COUNT(F.cic_id) AS num_immigrants \" \\\n",
    "        \"FROM facts F \" \\\n",
    "        \"INNER JOIN dim_visa V ON F.visa_code = V.visa_code \" \\\n",
    "        \"INNER JOIN dim_countries C ON F.origin_country_code = C.country_code \" \\\n",
    "        \"WHERE V.visa_type = 'Student' \" \\\n",
    "        \"GROUP BY C.country, F.gender \" \\\n",
    "        \"ORDER BY num_immigrants DESC\"\n",
    "\n",
    "student_immigration_by_country_and_gender = spark.sql(query)\n",
    "student_immigration_by_country_and_gender.limit(10).toPandas()"
   ]
  },
  {
   "cell_type": "markdown",
   "metadata": {
    "editable": true
   },
   "source": [
    "### Step 5: Complete Project Write Up"
   ]
  },
  {
   "cell_type": "markdown",
   "metadata": {
    "editable": true
   },
   "source": [
    "#### 5.1 Choice of tools and technologies"
   ]
  },
  {
   "cell_type": "markdown",
   "metadata": {
    "editable": true
   },
   "source": [
    "Apache Spark was used for this project to do all the data processing and create the model. \n",
    "The reason for this is because \n",
    "- Spark provides very good scalability and can handle a lot of data and the \n",
    "- spark.sql library consists of various data wrangling tools\n",
    "- PySpark is very flexible when it comes to the syntax - Python or SQL approach can be used.\n",
    "- The data stored in parquet format is very well optimized for Spark usage"
   ]
  },
  {
   "cell_type": "markdown",
   "metadata": {
    "editable": true
   },
   "source": [
    "#### 5.2 How often the data should be updated and why"
   ]
  },
  {
   "cell_type": "markdown",
   "metadata": {
    "editable": true
   },
   "source": [
    "Airflow can be used for data ingestion on a particular schedule. Depending on the data source:\n",
    "- Since the format of the raw files is monthly, schedule can be monthly\n",
    "- If there is a source that is more frequently updated - we can ingest new data daily, based on arrival date"
   ]
  },
  {
   "cell_type": "markdown",
   "metadata": {
    "editable": true
   },
   "source": [
    "#### 5.3 Scenarios"
   ]
  },
  {
   "cell_type": "markdown",
   "metadata": {
    "editable": true
   },
   "source": [
    "##### 5.3.1 The data was increased by 100x"
   ]
  },
  {
   "cell_type": "markdown",
   "metadata": {
    "editable": true
   },
   "source": [
    "- Use Amazon Redshift since it is optimized for aggregation and read-heavy workloads and is easily scalable\n",
    "- Keep using Spark since it's very efficient in dealing with large volumes of data"
   ]
  },
  {
   "cell_type": "markdown",
   "metadata": {
    "editable": true
   },
   "source": [
    "##### 5.3.2 The data populates a dashboard that must be updated on a daily basis by 7am every day."
   ]
  },
  {
   "cell_type": "markdown",
   "metadata": {
    "editable": true
   },
   "source": [
    "- Airflow can be used for data orchestration and scheduling\n",
    "- Have daily quality checks, on failure - send email alerts. Use SLA functionality of Airlow"
   ]
  },
  {
   "cell_type": "markdown",
   "metadata": {
    "editable": true
   },
   "source": [
    "##### 5.3.3 The database needed to be accessed by 100+ people"
   ]
  },
  {
   "cell_type": "markdown",
   "metadata": {
    "editable": true
   },
   "source": [
    "- Use Redshift since it has very good scalability and performance\n",
    "- Use Hive, Spark sql template views"
   ]
  }
 ],
 "metadata": {
  "kernelspec": {
   "display_name": "Python 3",
   "language": "python",
   "name": "python3"
  },
  "language_info": {
   "codemirror_mode": {
    "name": "ipython",
    "version": 3
   },
   "file_extension": ".py",
   "mimetype": "text/x-python",
   "name": "python",
   "nbconvert_exporter": "python",
   "pygments_lexer": "ipython3",
   "version": "3.6.3"
  }
 },
 "nbformat": 4,
 "nbformat_minor": 4
}
